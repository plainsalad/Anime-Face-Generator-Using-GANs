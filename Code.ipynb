{
  "cells": [
    {
      "cell_type": "markdown",
      "metadata": {
        "id": "ylg5Wf2aoxPk"
      },
      "source": [
        "# Using GANs to Generate Anime Face Images for Video Games or Anime\n",
        "\n",
        "Generative Adversarial Networks (GANs) have revolutionized various fields by enabling the creation of realistic synthetic data. In this project, we aim to generate anime face images using GANs, which can be utilized in video games or anime productions.\n"
      ]
    },
    {
      "cell_type": "markdown",
      "metadata": {
        "id": "4VyqMhRupIB6"
      },
      "source": [
        "## Problem Definition\n",
        "\n",
        "Machine learning technology is considered a game changer in almost every industry as it has helped automate various processes, such as writing stories and differentiating between different faces, among other things. Dave Waters perfectly sums up how machine learning will impact us by saying, “Machine learning will automate jobs that most people thought could only be done by people.”\n",
        "\n",
        "The problem I will be focusing on in this paper stems from my personal experience with creating art. I have recently gotten into game development, but in the process of making games, I always find problems when it comes to designing my characters, as I am not particularly an artsy person. I could potentially download pre-made models, but this would not feel right to me as I would still be using someone else’s work. From my experience, I understand how important the Arts and Design department is for a video game development company. However, Dave Waters's quote got me thinking: maybe there is a way to mitigate the need for an artsy person. Maybe I do not need a person to create art for me but can utilize machine learning to do that instead.\n",
        "\n",
        "However, I soon realized how long it takes to train a model well for big images, so I had to tone down my ambition and focus on smaller images that would not take as long to run but could still relate to my problem. Then it hit me: why not generate anime faces? There is a dataset available for this with the perfect size. Connecting back to my initial curiosity about concept art generation, this can relate well, as anime characters are often used in video games. This small thought led me to pursue this particular final project.\n"
      ]
    },
    {
      "cell_type": "markdown",
      "metadata": {},
      "source": [
        "## Checking GPU Availability\n",
        "\n",
        "Before starting the training process, we need to check the availability of GPUs to ensure that our model can leverage hardware acceleration."
      ]
    },
    {
      "cell_type": "code",
      "execution_count": 89,
      "metadata": {
        "colab": {
          "base_uri": "https://localhost:8080/"
        },
        "id": "lWahpQv8t_sq",
        "outputId": "8825d08a-0411-4a81-f39d-8b5f3514550c"
      },
      "outputs": [
        {
          "name": "stdout",
          "output_type": "stream",
          "text": [
            "Number of GPUs Available:  1\n"
          ]
        }
      ],
      "source": [
        "import tensorflow as tf\n",
        "\n",
        "# Check the number of available GPUs\n",
        "num_gpus = len(tf.config.list_physical_devices('GPU'))\n",
        "print(\"Number of GPUs Available: \", num_gpus)"
      ]
    },
    {
      "cell_type": "markdown",
      "metadata": {
        "id": "wpsUKAFqqM06"
      },
      "source": [
        "## Solution Specification\n",
        "\n",
        "To create my model, I first obtained the dataset from Kaggle (link in references). After that, I preprocessed the images to make them suitable for my use.\n",
        "\n",
        "The main idea for this model is to have two separate models: one that generates images (the generator) and another that checks if the images are real or fake (the discriminator). This model is a type of adversarial model because the two models, the generative and the discriminative models, are playing a zero-sum game where if one wins, the other is forced to update itself. The generative model can be thought of as an art forger, while the discriminator acts as an art critic."
      ]
    },
    {
      "cell_type": "markdown",
      "metadata": {},
      "source": [
        "### Data Preprocessing\n",
        "\n",
        "In this section, we will preprocess the images from the dataset to prepare them for use in the GAN model. The images will be resized to 28x28 pixels and normalized."
      ]
    },
    {
      "cell_type": "code",
      "execution_count": 90,
      "metadata": {
        "colab": {
          "base_uri": "https://localhost:8080/",
          "height": 211
        },
        "id": "mT9TPiMdt_zR",
        "outputId": "1c09edd6-34ad-4005-b7f4-94c5eadf0d8e"
      },
      "outputs": [],
      "source": [
        "from PIL import Image\n",
        "import os\n",
        "import numpy as np\n",
        "\n",
        "# Folder containing the images\n",
        "folder = 'images'\n",
        "\n",
        "# Function to read and preprocess an image\n",
        "def read_image(imname):\n",
        "    return np.asarray(Image.open(imname).resize((28, 28)).convert(\"L\"))\n",
        "\n",
        "# Read and preprocess all images in the folder\n",
        "image_list = [read_image(os.path.join(folder, filename)) for filename in os.listdir(folder)]\n",
        "image_array = np.array(image_list, dtype='uint8')"
      ]
    },
    {
      "cell_type": "code",
      "execution_count": 91,
      "metadata": {},
      "outputs": [],
      "source": [
        "# Normalize the image array\n",
        "im_array = (image_array / 255.0) * 2 - 1\n",
        "# Convert numpy array to tf.data.Dataset\n",
        "ds = tf.data.Dataset.from_tensor_slices(im_array)\n",
        "# Cache the dataset for that batch \n",
        "ds = ds.cache()\n",
        "# Shuffle it up \n",
        "ds = ds.shuffle(60000)\n",
        "# Batch into 128 images per sample\n",
        "ds = ds.batch(128)\n",
        "# Reduces the likelihood of bottlenecking \n",
        "ds = ds.prefetch(64)"
      ]
    },
    {
      "cell_type": "code",
      "execution_count": 92,
      "metadata": {},
      "outputs": [
        {
          "data": {
            "text/plain": [
              "(128, 28, 28)"
            ]
          },
          "execution_count": 92,
          "metadata": {},
          "output_type": "execute_result"
        }
      ],
      "source": [
        "ds.as_numpy_iterator().next().shape"
      ]
    },
    {
      "cell_type": "markdown",
      "metadata": {},
      "source": [
        "### Setting Up GPU\n",
        "\n",
        "Here, we configure TensorFlow to use the available GPUs to speed up the training process."
      ]
    },
    {
      "cell_type": "code",
      "execution_count": 93,
      "metadata": {
        "id": "Ud1shEkjiAqe"
      },
      "outputs": [
        {
          "name": "stdout",
          "output_type": "stream",
          "text": [
            "GPUs found and memory growth enabled for 1 GPU(s).\n"
          ]
        }
      ],
      "source": [
        "# Set up GPU for usage\n",
        "gpus = tf.config.list_physical_devices('GPU')\n",
        "if gpus:\n",
        "    try:\n",
        "        for gpu in gpus:\n",
        "            tf.config.experimental.set_memory_growth(gpu, True)\n",
        "        print(f\"GPUs found and memory growth enabled for {len(gpus)} GPU(s).\")\n",
        "    except RuntimeError as e:\n",
        "        print(f\"Error setting up GPU: {e}\")\n",
        "else:\n",
        "    print(\"No GPUs found.\")"
      ]
    },
    {
      "cell_type": "markdown",
      "metadata": {},
      "source": [
        "### Importing Necessary Libraries\n",
        "\n",
        "We import the required libraries for data visualization and processing."
      ]
    },
    {
      "cell_type": "code",
      "execution_count": 94,
      "metadata": {
        "id": "Jng-0tDriAxR"
      },
      "outputs": [],
      "source": [
        "# Importing necessary libraries\n",
        "# import tensorflow_datasets as tfds  # Uncomment if you need to use TensorFlow Datasets\n",
        "from matplotlib import pyplot as plt\n",
        "import numpy as np"
      ]
    },
    {
      "cell_type": "markdown",
      "metadata": {
        "id": "o6b_NNvsk1Yy"
      },
      "source": [
        "### Visualizing Data\n",
        "\n",
        "It is good practice to check your data before carrying out any operations on it. Here, we visualize some sample images from the dataset."
      ]
    },
    {
      "cell_type": "code",
      "execution_count": 95,
      "metadata": {
        "id": "Iy24hRJVkPQI"
      },
      "outputs": [
        {
          "name": "stdout",
          "output_type": "stream",
          "text": [
            "Sample shape: (28, 28)\n",
            "Sample shape: (28, 28)\n",
            "Sample shape: (28, 28)\n",
            "Sample shape: (28, 28)\n"
          ]
        },
        {
          "data": {
            "image/png": "[encoded data removed]",
            "text/plain": [
              "<Figure size 2000x2000 with 4 Axes>"
            ]
          },
          "metadata": {},
          "output_type": "display_data"
        }
      ],
      "source": [
        "# Visualize some sample images\n",
        "fig, ax = plt.subplots(ncols=4, figsize=(20, 20))\n",
        "for idx in range(4):\n",
        "    sample = image_array[idx]\n",
        "    print(\"Sample shape:\", sample.shape)\n",
        "    ax[idx].imshow(Image.fromarray(sample, 'L'))  # Makes it easier to visualize\n",
        "\n",
        "plt.show()"
      ]
    },
    {
      "cell_type": "markdown",
      "metadata": {
        "id": "wdYDApnjp7i4"
      },
      "source": [
        "## Creating the Models\n",
        "\n",
        "In this section, we will define the generator and discriminator models that will be used in our GAN."
      ]
    },
    {
      "cell_type": "markdown",
      "metadata": {},
      "source": [
        "### Generator Model\n",
        "\n",
        "The generator model takes in random noise and generates images. It uses a series of dense and convolutional layers to upsample the input noise to the desired image size. The goal of the generator is to create images that are indistinguishable from real images to fool the discriminator."
      ]
    },
    {
      "cell_type": "code",
      "execution_count": 96,
      "metadata": {
        "id": "y2LLBiPEoQxD"
      },
      "outputs": [],
      "source": [
        "from tensorflow.keras.models import Sequential\n",
        "from tensorflow.keras.layers import Conv2D, Dense, Flatten, Reshape, LeakyReLU, Dropout, UpSampling2D"
      ]
    },
    {
      "cell_type": "code",
      "execution_count": 97,
      "metadata": {
        "id": "7J2M8kHYoQzG"
      },
      "outputs": [],
      "source": [
        "def build_generator():\n",
        "    model = Sequential()\n",
        "\n",
        "    # Takes in random values and reshapes them to 7x7x128\n",
        "    model.add(Dense(7*7*128, input_dim=128))\n",
        "    model.add(LeakyReLU(0.2))\n",
        "    model.add(Reshape((7, 7, 128)))\n",
        "\n",
        "    # Upsampling block 1\n",
        "    model.add(UpSampling2D())\n",
        "    model.add(Conv2D(128, 5, padding='same'))\n",
        "    model.add(LeakyReLU(0.2))\n",
        "\n",
        "    # Upsampling block 2\n",
        "    model.add(UpSampling2D())\n",
        "    model.add(Conv2D(128, 5, padding='same'))\n",
        "    model.add(LeakyReLU(0.2))\n",
        "\n",
        "    # Convolutional block 1\n",
        "    model.add(Conv2D(128, 4, padding='same'))\n",
        "    model.add(LeakyReLU(0.2))\n",
        "\n",
        "    # Convolutional block 2\n",
        "    model.add(Conv2D(128, 4, padding='same'))\n",
        "    model.add(LeakyReLU(0.2))\n",
        "\n",
        "    # Conv layer to get to one channel\n",
        "    model.add(Conv2D(1, 4, padding='same', activation='sigmoid'))\n",
        "\n",
        "    return model"
      ]
    },
    {
      "cell_type": "code",
      "execution_count": 98,
      "metadata": {
        "id": "8kfpJrtaoQ1a"
      },
      "outputs": [],
      "source": [
        "generator = build_generator()"
      ]
    },
    {
      "cell_type": "code",
      "execution_count": 99,
      "metadata": {
        "id": "jrZ4XSQFoQ5o"
      },
      "outputs": [
        {
          "name": "stdout",
          "output_type": "stream",
          "text": [
            "1/1 [==============================] - 0s 135ms/step\n",
            "Generated images shape: (4, 28, 28, 1)\n"
          ]
        }
      ],
      "source": [
        "# Generate some images without training\n",
        "img = generator.predict(np.random.randn(4, 128, 1))\n",
        "print(\"Generated images shape:\", img.shape)"
      ]
    },
    {
      "cell_type": "markdown",
      "metadata": {},
      "source": [
        "### Visualizing Generated Images Without Training\n",
        "\n",
        "Before training the generator model, we visualize the generated images to see the initial output. These images are expected to be random noise since the generator has not yet learned to produce realistic images."
      ]
    },
    {
      "cell_type": "code",
      "execution_count": 100,
      "metadata": {
        "id": "-sCKIvvzxvKe"
      },
      "outputs": [
        {
          "data": {
            "image/png": "[encoded data removed]",
            "text/plain": [
              "<Figure size 2000x2000 with 4 Axes>"
            ]
          },
          "metadata": {},
          "output_type": "display_data"
        }
      ],
      "source": [
        "# Visualize generated images without training\n",
        "fig, ax = plt.subplots(ncols=4, figsize=(20, 20))\n",
        "for idx, img in enumerate(img):\n",
        "    ax[idx].imshow(np.squeeze(img), cmap='gray')  # Makes it easier to visualize\n",
        "    ax[idx].title.set_text(f\"Image {idx}\")\n",
        "    ax[idx].axis('off')  # Hide the axes ticks\n",
        "\n",
        "plt.tight_layout()\n",
        "plt.show()"
      ]
    },
    {
      "cell_type": "markdown",
      "metadata": {},
      "source": [
        "### Discriminator Model\n",
        "\n",
        "The discriminator model evaluates the authenticity of the generated images. It uses a series of convolutional layers to classify images as real or fake. The goal of the discriminator is to correctly identify real images from the training data and fake images generated by the generator."
      ]
    },
    {
      "cell_type": "code",
      "execution_count": 101,
      "metadata": {
        "id": "A0lzFkzcyfPB"
      },
      "outputs": [],
      "source": [
        "def build_discriminator():\n",
        "    model = Sequential()\n",
        "\n",
        "    # First Convolution\n",
        "    model.add(Conv2D(32, 5, input_shape=(28, 28, 1)))\n",
        "    model.add(LeakyReLU(0.2))\n",
        "    model.add(Dropout(0.4))\n",
        "\n",
        "    # Second Convolution\n",
        "    model.add(Conv2D(64, 5))\n",
        "    model.add(LeakyReLU(0.2))\n",
        "    model.add(Dropout(0.4))\n",
        "\n",
        "    # Third Convolution\n",
        "    model.add(Conv2D(128, 5))\n",
        "    model.add(LeakyReLU(0.2))\n",
        "    model.add(Dropout(0.4))\n",
        "\n",
        "    # Fourth Convolution\n",
        "    model.add(Conv2D(256, 5))\n",
        "    model.add(LeakyReLU(0.2))\n",
        "    model.add(Dropout(0.4))\n",
        "\n",
        "    # Flatten the nodes then pass to dense layer with activation function\n",
        "    model.add(Flatten())\n",
        "    model.add(Dropout(0.4))\n",
        "    model.add(Dense(1, activation='sigmoid'))\n",
        "\n",
        "    return model\n"
      ]
    },
    {
      "cell_type": "code",
      "execution_count": 102,
      "metadata": {
        "id": "KkgUCljd2KmU"
      },
      "outputs": [],
      "source": [
        "discriminator = build_discriminator()"
      ]
    },
    {
      "cell_type": "markdown",
      "metadata": {
        "id": "UcREVSES5PZh"
      },
      "source": [
        "## Training Loop\n",
        "\n",
        "The training loop involves alternating between training the discriminator and the generator. The discriminator is trained to distinguish between real and fake images, while the generator is trained to produce images that can fool the discriminator. Here is how the training process works:\n",
        "\n",
        "1. Generate fake images using the generator.\n",
        "2. Combine fake images with real images from the dataset.\n",
        "3. Train the discriminator on this combined dataset to distinguish between real and fake images.\n",
        "4. Generate new fake images and pass them through the discriminator.\n",
        "5. Train the generator to improve its ability to fool the discriminator."
      ]
    },
    {
      "cell_type": "code",
      "execution_count": 103,
      "metadata": {
        "id": "6j69ktcR4kL4"
      },
      "outputs": [],
      "source": [
        "from tensorflow.keras.optimizers import Adam # Optimizer for both\n",
        "from tensorflow.keras.losses import BinaryCrossentropy # Loss for both"
      ]
    },
    {
      "cell_type": "markdown",
      "metadata": {
        "id": "kvbHpwFOzWjX"
      },
      "source": [
        "We are using BinaryCrossEntropy as the discirminator model is a binary classification model, so this loss function allows us to quantify how well the model is able to differentiate between real and fake images."
      ]
    },
    {
      "cell_type": "code",
      "execution_count": 104,
      "metadata": {
        "id": "6ar0i0n-6My-"
      },
      "outputs": [],
      "source": [
        "# Defining the optimizers and Loss functions for generator and discriminator model\n",
        "g_opt = Adam(learning_rate=0.00015) # higer learning rate becasue it is slow in learning\n",
        "d_opt = Adam(learning_rate=0.00001) # lower learning rate so it learns at the same rate as generative model\n",
        "g_loss = BinaryCrossentropy()\n",
        "d_loss = BinaryCrossentropy()\n"
      ]
    },
    {
      "cell_type": "code",
      "execution_count": 105,
      "metadata": {
        "id": "sDQZq3XA74lr"
      },
      "outputs": [],
      "source": [
        "# Importing the base model class so we can subclass it for our training step\n",
        "from tensorflow.keras.models import Model"
      ]
    },
    {
      "cell_type": "code",
      "execution_count": 106,
      "metadata": {
        "id": "ZPoYb_mp74oQ"
      },
      "outputs": [],
      "source": [
        "class AnimeGAN(Model):\n",
        "  def __init__(self, generator, discriminator, *args, **kwargs):\n",
        "\n",
        "    # Pass through args and kwargs to base class\n",
        "    super().__init__(*args, **kwargs)\n",
        "\n",
        "    # Create attributes for generative and discriminative\n",
        "    self.generator = generator\n",
        "    self.discriminator = discriminator\n",
        "\n",
        "\n",
        "\n",
        "  def compile(self, g_opt, d_opt, g_loss, d_loss, *args, **kwargs):\n",
        "    super().compile(*args, **kwargs)\n",
        "\n",
        "    # Create attributes for losses and optimizers for our genertaive and discriminative model\n",
        "    self.g_opt = g_opt\n",
        "    self.d_opt = d_opt\n",
        "    self.g_loss = g_loss\n",
        "    self.d_loss = d_loss\n",
        "\n",
        "\n",
        "  def train_step(self, batch):\n",
        "    # Getting data\n",
        "    real_images = batch\n",
        "    fake_images = self.generator(tf.random.normal((128, 128, 1)), training=False)\n",
        "\n",
        "    # Train discriminator\n",
        "    with tf.GradientTape() as d_tape:\n",
        "      # Pass the real and fake images to the discriminator model\n",
        "      yhat_real = self.discriminator(real_images, training=True)\n",
        "      yhat_fake = self.discriminator(fake_images, training=True)\n",
        "      yhat_realfake = tf.concat([yhat_real, yhat_fake], axis=0)\n",
        "\n",
        "\n",
        "      # Create labels for real and fake images\n",
        "      y_realfake = tf.concat([tf.zeros_like(yhat_real), tf.ones_like(yhat_fake)], axis=0)\n",
        "\n",
        "\n",
        "      # Adding some noise to the True outputs (details in markdown below)\n",
        "      noise_real = 0.15*tf.random.uniform(tf.shape(yhat_real))\n",
        "      noise_fake = -0.15*tf.random.uniform(tf.shape(yhat_fake))\n",
        "      y_realfake += tf.concat([noise_real, noise_fake], axis=0)\n",
        "\n",
        "      # Calculate Loss - BinaryCross\n",
        "      total_d_loss = self.d_loss(y_realfake, yhat_realfake)\n",
        "\n",
        "    # Applying back propogation to trian weights for discriminative model\n",
        "    dgrad = d_tape.gradient(total_d_loss, self.discriminator.trainable_variables)\n",
        "    self.d_opt.apply_gradients(zip(dgrad, self.discriminator.trainable_variables))\n",
        "\n",
        "    # Training the Generator model\n",
        "    with tf.GradientTape() as g_tape:\n",
        "\n",
        "      # Generating new images\n",
        "      gen_images = self.generator(tf.random.normal((128, 128, 1)), training=True)\n",
        "\n",
        "      # Creating the predicted labels\n",
        "      predicted_labels = self.discriminator(gen_images, training=False)\n",
        "\n",
        "      # Calculate Loss - trick to training to fake out the discriminator\n",
        "      total_g_loss = self.g_loss(tf.zeros_like(predicted_labels), predicted_labels)\n",
        "\n",
        "    # Apply BackPropagation\n",
        "    ggrad = g_tape.gradient(total_g_loss, self.generator.trainable_variables)\n",
        "    self.g_opt.apply_gradients(zip(ggrad, self.generator.trainable_variables))\n",
        "\n",
        "    return {\"d_loss\":total_d_loss, \"g_loss\": total_g_loss}"
      ]
    },
    {
      "cell_type": "markdown",
      "metadata": {
        "id": "mxM1BrhZvxJN"
      },
      "source": [
        "In the code cell above we are carrying out the training step for our models. The main idea for training discirminator model is to have a set of values that are real and fake. As we have already set the labels for real images to be 0 and fake to be 1 we just need to put the values in the loss function. However, in order to slow down the training process so its learning rate is closer to generator model we add some additional noise and then concat that to the real info array, yhat_realfake, and test the loss of the discirmiantor on that."
      ]
    },
    {
      "cell_type": "code",
      "execution_count": 107,
      "metadata": {
        "id": "Y-zKLSu_74qf"
      },
      "outputs": [],
      "source": [
        "animegan = AnimeGAN(generator, discriminator)"
      ]
    },
    {
      "cell_type": "code",
      "execution_count": 108,
      "metadata": {
        "id": "Qefgeury74sM"
      },
      "outputs": [],
      "source": [
        "# Compile the model\n",
        "animegan.compile(g_opt, d_opt, g_loss, d_loss)"
      ]
    },
    {
      "cell_type": "markdown",
      "metadata": {},
      "source": [
        "## Callback\n",
        "\n",
        "We use a callback to monitor the model's performance during training and to save generated images at the end of each epoch. This helps in visualizing the progress of the generator as it learns to create more realistic images."
      ]
    },
    {
      "cell_type": "code",
      "execution_count": 109,
      "metadata": {},
      "outputs": [],
      "source": [
        "import os\n",
        "from tensorflow.keras.preprocessing.image import array_to_img\n",
        "from tensorflow.keras.callbacks import Callback, EarlyStopping"
      ]
    },
    {
      "cell_type": "code",
      "execution_count": 110,
      "metadata": {},
      "outputs": [],
      "source": [
        "class ModelMonitor(Callback):\n",
        "    def __init__(self, num_img=3, latent_dims=128):\n",
        "        self.num_img = num_img\n",
        "        self.latent_dims = latent_dims\n",
        "        self.output_dir = 'Generated'\n",
        "\n",
        "        # Ensure the output directory exists\n",
        "        if not os.path.exists(self.output_dir):\n",
        "            os.makedirs(self.output_dir)\n",
        "    \n",
        "    def on_epoch_end(self, epoch, logs=None):\n",
        "        random_latent_vectors = tf.random.uniform((self.num_img, self.latent_dims, 1))\n",
        "        generated_images = self.model.generator.predict(random_latent_vectors)\n",
        "        generated_images *= 255\n",
        "        # generated_images.numpy()\n",
        "        for i in range(self.num_img):\n",
        "            img = array_to_img(generated_images[i])\n",
        "            img.save(os.path.join('Generated', f'generated_img_{epoch}_{i}.png'))"
      ]
    },
    {
      "cell_type": "code",
      "execution_count": 111,
      "metadata": {
        "id": "bWu2joxhMajK"
      },
      "outputs": [
        {
          "name": "stdout",
          "output_type": "stream",
          "text": [
            "Epoch 1/50\n"
          ]
        },
        {
          "name": "stdout",
          "output_type": "stream",
          "text": [
            "1/1 [==============================] - 0s 35ms/step- d_loss: 0.5850 - g_loss: 0.71\n",
            "497/497 [==============================] - 90s 177ms/step - d_loss: 0.5847 - g_loss: 0.7132\n",
            "Epoch 2/50\n",
            "1/1 [==============================] - 0s 22ms/step- d_loss: 0.4637 - g_loss: 0.87\n",
            "497/497 [==============================] - 102s 205ms/step - d_loss: 0.4636 - g_loss: 0.8794\n",
            "Epoch 3/50\n",
            "1/1 [==============================] - 0s 25ms/step- d_loss: 0.4242 - g_loss: 1.01\n",
            "497/497 [==============================] - 111s 223ms/step - d_loss: 0.4242 - g_loss: 1.0170\n",
            "Epoch 4/50\n",
            "1/1 [==============================] - 0s 26ms/step- d_loss: 0.3877 - g_loss: 0.99\n",
            "497/497 [==============================] - 112s 225ms/step - d_loss: 0.3876 - g_loss: 0.9971\n",
            "Epoch 5/50\n",
            "1/1 [==============================] - 0s 24ms/step- d_loss: 0.3560 - g_loss: 1.07\n",
            "497/497 [==============================] - 116s 233ms/step - d_loss: 0.3559 - g_loss: 1.0781\n",
            "Epoch 6/50\n",
            "1/1 [==============================] - 0s 25ms/step- d_loss: 0.3211 - g_loss: 1.22\n",
            "497/497 [==============================] - 119s 240ms/step - d_loss: 0.3210 - g_loss: 1.2304\n",
            "Epoch 7/50\n",
            "1/1 [==============================] - 0s 26ms/step- d_loss: 0.2959 - g_loss: 2.17\n",
            "497/497 [==============================] - 123s 247ms/step - d_loss: 0.2958 - g_loss: 2.1797\n",
            "Epoch 8/50\n",
            "1/1 [==============================] - 0s 27ms/step- d_loss: 0.2734 - g_loss: 2.61\n",
            "497/497 [==============================] - 121s 244ms/step - d_loss: 0.2733 - g_loss: 2.6145\n",
            "Epoch 9/50\n",
            "1/1 [==============================] - 0s 23ms/step- d_loss: 0.2703 - g_loss: 2.63\n",
            "497/497 [==============================] - 123s 247ms/step - d_loss: 0.2703 - g_loss: 2.6324\n",
            "Epoch 10/50\n",
            "1/1 [==============================] - 0s 32ms/step- d_loss: 0.2693 - g_loss: 2.64\n",
            "497/497 [==============================] - 119s 239ms/step - d_loss: 0.2693 - g_loss: 2.6403\n",
            "Epoch 11/50\n",
            "1/1 [==============================] - 0s 22ms/step- d_loss: 0.2687 - g_loss: 2.65\n",
            "497/497 [==============================] - 118s 237ms/step - d_loss: 0.2687 - g_loss: 2.6537\n",
            "Epoch 12/50\n",
            "1/1 [==============================] - 0s 24ms/step- d_loss: 0.2683 - g_loss: 2.66\n",
            "497/497 [==============================] - 102s 204ms/step - d_loss: 0.2683 - g_loss: 2.6662\n",
            "Epoch 13/50\n",
            "1/1 [==============================] - 0s 23ms/step- d_loss: 0.2676 - g_loss: 2.68\n",
            "497/497 [==============================] - 99s 200ms/step - d_loss: 0.2676 - g_loss: 2.6831\n",
            "Epoch 14/50\n",
            "1/1 [==============================] - 0s 25ms/step- d_loss: 0.2681 - g_loss: 2.69\n",
            "497/497 [==============================] - 99s 200ms/step - d_loss: 0.2681 - g_loss: 2.6917\n",
            "Epoch 15/50\n",
            "1/1 [==============================] - 0s 23ms/step- d_loss: 0.2679 - g_loss: 2.70\n",
            "497/497 [==============================] - 99s 200ms/step - d_loss: 0.2679 - g_loss: 2.7031\n",
            "Epoch 16/50\n",
            "1/1 [==============================] - 0s 25ms/step- d_loss: 0.3191 - g_loss: 1.58\n",
            "497/497 [==============================] - 102s 206ms/step - d_loss: 0.3191 - g_loss: 1.5860\n",
            "Epoch 17/50\n",
            "1/1 [==============================] - 0s 25ms/step- d_loss: 0.2907 - g_loss: 1.14\n",
            "497/497 [==============================] - 108s 217ms/step - d_loss: 0.2907 - g_loss: 1.1470\n",
            "Epoch 18/50\n",
            "1/1 [==============================] - 0s 24ms/step- d_loss: 0.2859 - g_loss: 0.73\n",
            "497/497 [==============================] - 108s 217ms/step - d_loss: 0.2859 - g_loss: 0.7312\n",
            "Epoch 19/50\n",
            "1/1 [==============================] - 0s 23ms/step- d_loss: 0.2808 - g_loss: 0.69\n",
            "497/497 [==============================] - 110s 221ms/step - d_loss: 0.2808 - g_loss: 0.6957\n",
            "Epoch 20/50\n",
            "1/1 [==============================] - 0s 32ms/step- d_loss: 0.2773 - g_loss: 0.64\n",
            "497/497 [==============================] - 111s 223ms/step - d_loss: 0.2773 - g_loss: 0.6474\n",
            "Epoch 21/50\n",
            "1/1 [==============================] - 0s 24ms/step- d_loss: 0.2749 - g_loss: 0.54\n",
            "497/497 [==============================] - 111s 223ms/step - d_loss: 0.2749 - g_loss: 0.5412\n",
            "Epoch 22/50\n",
            "1/1 [==============================] - 0s 26ms/step- d_loss: 0.2731 - g_loss: 0.59\n",
            "497/497 [==============================] - 112s 225ms/step - d_loss: 0.2731 - g_loss: 0.5913\n",
            "Epoch 23/50\n",
            "1/1 [==============================] - 0s 30ms/step- d_loss: 0.2724 - g_loss: 0.58\n",
            "497/497 [==============================] - 112s 224ms/step - d_loss: 0.2725 - g_loss: 0.5890\n",
            "Epoch 24/50\n",
            "1/1 [==============================] - 0s 24ms/step- d_loss: 0.2712 - g_loss: 0.56\n",
            "497/497 [==============================] - 111s 223ms/step - d_loss: 0.2712 - g_loss: 0.5608\n",
            "Epoch 25/50\n",
            "1/1 [==============================] - 0s 23ms/step- d_loss: 0.2714 - g_loss: 0.54\n",
            "497/497 [==============================] - 114s 229ms/step - d_loss: 0.2714 - g_loss: 0.5452\n",
            "Epoch 26/50\n",
            "1/1 [==============================] - 0s 23ms/step- d_loss: 0.2716 - g_loss: 0.53\n",
            "497/497 [==============================] - 112s 224ms/step - d_loss: 0.2716 - g_loss: 0.5341\n",
            "Epoch 27/50\n",
            "1/1 [==============================] - 0s 25ms/step- d_loss: 0.2716 - g_loss: 0.54\n",
            "497/497 [==============================] - 114s 229ms/step - d_loss: 0.2716 - g_loss: 0.5414\n",
            "Epoch 28/50\n",
            "1/1 [==============================] - 0s 23ms/step- d_loss: 0.2715 - g_loss: 0.58\n",
            "497/497 [==============================] - 116s 233ms/step - d_loss: 0.2715 - g_loss: 0.5805\n",
            "Epoch 29/50\n",
            "1/1 [==============================] - 0s 31ms/step- d_loss: 0.2712 - g_loss: 0.52\n",
            "497/497 [==============================] - 116s 233ms/step - d_loss: 0.2713 - g_loss: 0.5262\n",
            "Epoch 30/50\n",
            "1/1 [==============================] - 0s 24ms/step- d_loss: 0.2709 - g_loss: 0.53\n",
            "497/497 [==============================] - 115s 231ms/step - d_loss: 0.2709 - g_loss: 0.5326\n",
            "Epoch 31/50\n",
            "1/1 [==============================] - 0s 26ms/step- d_loss: 0.2707 - g_loss: 0.58\n",
            "497/497 [==============================] - 120s 241ms/step - d_loss: 0.2707 - g_loss: 0.5871\n",
            "Epoch 32/50\n",
            "1/1 [==============================] - 0s 24ms/step- d_loss: 0.2705 - g_loss: 0.60\n",
            "497/497 [==============================] - 118s 238ms/step - d_loss: 0.2705 - g_loss: 0.6042\n",
            "Epoch 33/50\n",
            "1/1 [==============================] - 0s 23ms/step- d_loss: 0.2703 - g_loss: 0.65\n",
            "497/497 [==============================] - 118s 238ms/step - d_loss: 0.2703 - g_loss: 0.6512\n",
            "Epoch 34/50\n",
            "1/1 [==============================] - 0s 25ms/step- d_loss: 0.2709 - g_loss: 0.60\n",
            "497/497 [==============================] - 118s 237ms/step - d_loss: 0.2710 - g_loss: 0.6091\n",
            "Epoch 35/50\n",
            "1/1 [==============================] - 0s 24ms/step- d_loss: 0.2709 - g_loss: 0.56\n",
            "497/497 [==============================] - 117s 235ms/step - d_loss: 0.2709 - g_loss: 0.5672\n",
            "Epoch 36/50\n",
            "1/1 [==============================] - 0s 21ms/step- d_loss: 0.2698 - g_loss: 0.56\n",
            "497/497 [==============================] - 117s 235ms/step - d_loss: 0.2699 - g_loss: 0.5652\n",
            "Epoch 37/50\n",
            "1/1 [==============================] - 0s 32ms/step- d_loss: 0.2700 - g_loss: 0.58\n",
            "497/497 [==============================] - 118s 237ms/step - d_loss: 0.2699 - g_loss: 0.5886\n",
            "Epoch 38/50\n",
            "1/1 [==============================] - 0s 22ms/step- d_loss: 0.2710 - g_loss: 0.58\n",
            "497/497 [==============================] - 123s 248ms/step - d_loss: 0.2710 - g_loss: 0.5805\n",
            "Epoch 39/50\n",
            "1/1 [==============================] - 0s 22ms/step- d_loss: 0.2711 - g_loss: 0.55\n",
            "497/497 [==============================] - 119s 239ms/step - d_loss: 0.2710 - g_loss: 0.5516\n",
            "Epoch 40/50\n",
            "1/1 [==============================] - 0s 23ms/step- d_loss: 0.2700 - g_loss: 0.53\n",
            "497/497 [==============================] - 119s 239ms/step - d_loss: 0.2700 - g_loss: 0.5354\n",
            "Epoch 41/50\n",
            "1/1 [==============================] - 0s 22ms/step- d_loss: 0.2709 - g_loss: 0.52\n",
            "497/497 [==============================] - 118s 238ms/step - d_loss: 0.2709 - g_loss: 0.5222\n",
            "Epoch 42/50\n",
            "1/1 [==============================] - 0s 23ms/step- d_loss: 0.2700 - g_loss: 0.48\n",
            "497/497 [==============================] - 120s 242ms/step - d_loss: 0.2700 - g_loss: 0.4876\n",
            "Epoch 43/50\n",
            "1/1 [==============================] - 0s 24ms/step- d_loss: 0.2703 - g_loss: 0.51\n",
            "497/497 [==============================] - 121s 244ms/step - d_loss: 0.2703 - g_loss: 0.5147\n",
            "Epoch 44/50\n",
            "1/1 [==============================] - 0s 24ms/step- d_loss: 0.2697 - g_loss: 0.51\n",
            "497/497 [==============================] - 120s 242ms/step - d_loss: 0.2697 - g_loss: 0.5158\n",
            "Epoch 45/50\n",
            "1/1 [==============================] - 0s 23ms/step- d_loss: 0.2692 - g_loss: 0.51\n",
            "497/497 [==============================] - 120s 241ms/step - d_loss: 0.2692 - g_loss: 0.5151\n",
            "Epoch 46/50\n",
            "1/1 [==============================] - 0s 24ms/step- d_loss: 0.2697 - g_loss: 0.51\n",
            "497/497 [==============================] - 121s 243ms/step - d_loss: 0.2697 - g_loss: 0.5103\n",
            "Epoch 47/50\n",
            "1/1 [==============================] - 0s 23ms/step- d_loss: 0.2694 - g_loss: 0.50\n",
            "497/497 [==============================] - 120s 242ms/step - d_loss: 0.2694 - g_loss: 0.5060\n",
            "Epoch 48/50\n",
            "1/1 [==============================] - 0s 23ms/step- d_loss: 0.2694 - g_loss: 0.48\n",
            "497/497 [==============================] - 125s 252ms/step - d_loss: 0.2694 - g_loss: 0.4877\n",
            "Epoch 49/50\n",
            "1/1 [==============================] - 0s 22ms/step- d_loss: 0.2687 - g_loss: 0.51\n",
            "497/497 [==============================] - 121s 244ms/step - d_loss: 0.2687 - g_loss: 0.5122\n",
            "Epoch 50/50\n",
            "1/1 [==============================] - 0s 23ms/step- d_loss: 0.2686 - g_loss: 0.54\n",
            "497/497 [==============================] - 123s 248ms/step - d_loss: 0.2686 - g_loss: 0.5411\n"
          ]
        }
      ],
      "source": [
        "# Recommend 2000 epochs\n",
        "hist = animegan.fit(ds, epochs=50, callbacks=[ModelMonitor()])"
      ]
    },
    {
      "cell_type": "markdown",
      "metadata": {
        "id": "UbQ9PkXjvjZq"
      },
      "source": [
        "## Testing and Analysis\n",
        "\n",
        "Plot the learning process and evaluate the generator model by visualizing generated images. The loss graphs for the discriminator and generator provide insights into their training progress and stability."
      ]
    },
    {
      "cell_type": "markdown",
      "metadata": {},
      "source": [
        "### Plotting the Learning Process\n",
        "\n",
        "The loss graphs for the discriminator and generator models help us understand how well each model is learning. Initially, we might see high loss values for both models. Over time, the generator's loss should decrease as it becomes better at creating realistic images, while the discriminator's loss might oscillate as it alternates between improving its ability to distinguish real from fake images."
      ]
    },
    {
      "cell_type": "code",
      "execution_count": 112,
      "metadata": {
        "id": "CjmYEFfoVrkR"
      },
      "outputs": [
        {
          "data": {
            "image/png": "[encoded data removed]",
            "text/plain": [
              "<Figure size 640x480 with 1 Axes>"
            ]
          },
          "metadata": {},
          "output_type": "display_data"
        }
      ],
      "source": [
        "# Plot the learning process\n",
        "plt.suptitle('Loss')\n",
        "plt.plot(hist.history['d_loss'], label='d_loss')\n",
        "plt.plot(hist.history['g_loss'], label='g_loss')\n",
        "plt.legend()\n",
        "plt.show()"
      ]
    },
    {
      "cell_type": "markdown",
      "metadata": {
        "id": "5G5iXTnCXNcU"
      },
      "source": [
        "### Testing the Generator Model\n",
        "\n",
        "Here we generate some images using the trained generator model and visualize them. The goal is to evaluate the generator's ability to produce realistic anime faces."
      ]
    },
    {
      "cell_type": "code",
      "execution_count": 113,
      "metadata": {
        "id": "FpC6-X0XWM08"
      },
      "outputs": [
        {
          "name": "stdout",
          "output_type": "stream",
          "text": [
            "1/1 [==============================] - 0s 25ms/step\n",
            "Generated images shape: (16, 28, 28, 1)\n"
          ]
        }
      ],
      "source": [
        "imgs = generator.predict(tf.random.normal((16, 128, 1)))\n",
        "print(\"Generated images shape:\", imgs.shape)"
      ]
    },
    {
      "cell_type": "code",
      "execution_count": 114,
      "metadata": {},
      "outputs": [
        {
          "data": {
            "image/png": "[encoded data removed]",
            "text/plain": [
              "<Figure size 1000x1000 with 16 Axes>"
            ]
          },
          "metadata": {},
          "output_type": "display_data"
        }
      ],
      "source": [
        "import matplotlib.pyplot as plt\n",
        "import numpy as np\n",
        "\n",
        "# Create a 4x4 grid of subplots\n",
        "fig, ax = plt.subplots(ncols=4, nrows=4, figsize=(10, 10))\n",
        "\n",
        "# Plot each generated image in the grid\n",
        "for idx, img in enumerate(imgs):\n",
        "    row = idx // 4\n",
        "    col = idx % 4\n",
        "    ax[row, col].imshow(np.squeeze(img), cmap='gray')  # Squeeze to remove single-dimensional entries from the shape\n",
        "    ax[row, col].title.set_text(f\"Image {idx}\")\n",
        "    ax[row, col].axis('off')  # Hide the axes ticks\n",
        "\n",
        "plt.tight_layout()\n",
        "plt.show()\n"
      ]
    },
    {
      "cell_type": "markdown",
      "metadata": {
        "id": "ErKiqOwSz4pW"
      },
      "source": [
        "## Comparing with Autoencoder\n",
        "\n",
        "Autoencoders are another class of neural networks used for generating images. Unlike GANs, autoencoders consist of an encoder and a decoder. The encoder compresses the input image into a latent space representation, and the decoder reconstructs the image from this representation.\n",
        "\n",
        "### Key Differences:\n",
        "\n",
        "1. **Training Approach**:\n",
        "   - **GANs**: Use adversarial training involving a generator and a discriminator.\n",
        "   - **Autoencoders**: Train using reconstruction loss between the input and output images.\n",
        "\n",
        "2. **Output Quality**:\n",
        "   - **GANs**: Typically produce sharper and more realistic images due to adversarial training.\n",
        "   - **Autoencoders**: Often result in blurrier images since they optimize for reconstruction accuracy.\n",
        "\n",
        "3. **Training Stability**:\n",
        "   - **GANs**: Training can be unstable due to the adversarial nature, requiring careful balancing.\n",
        "   - **Autoencoders**: Generally more stable and easier to train.\n",
        "\n",
        "### Why Use GANs for This Project?\n",
        "\n",
        "The goal of this project is to generate high-quality anime face images. GANs are chosen over autoencoders because:\n",
        "- They tend to produce more realistic and visually appealing images.\n",
        "- The adversarial training helps the generator learn to produce images that are more difficult for the discriminator to distinguish from real images.\n",
        "\n",
        "Despite the challenges in training GANs, their potential to create high-quality images makes them a better fit for this project compared to autoencoders.\n",
        "\n",
        "(Code and image comaring with autoencoder is not included in this notebook. Will be added in future commits)"
      ]
    },
    {
      "cell_type": "markdown",
      "metadata": {},
      "source": [
        "## Conclusion\n",
        "\n",
        "In this project, we explored the use of Generative Adversarial Networks (GANs) to generate anime face images. Through the training process, we observed the following key points:\n",
        "\n",
        "1. **Initial Training Phase**:\n",
        "   - The generator loss (g_loss) initially increased, indicating the generator's struggle to produce realistic images. The discriminator (d_loss) remained relatively stable, showcasing its ability to distinguish between real and fake images effectively.\n",
        "\n",
        "2. **Training Stability**:\n",
        "   - After the initial phase, the generator loss dropped rapidly and then stabilized with some fluctuations. This stabilization indicates that the generator started producing better quality images, though it still faced challenges in consistently fooling the discriminator.\n",
        "\n",
        "3. **Discriminator Performance**:\n",
        "   - The discriminator loss remained low and stable throughout the training, suggesting that it effectively learned to identify real from generated images.\n",
        "\n",
        "4. **Image Quality**:\n",
        "   - The generated images improved in quality over time, but continuous fluctuations in the generator loss indicated varying image quality. Evaluating generated images visually at different epochs helped in assessing the model's performance more accurately than relying solely on loss values."
      ]
    },
    {
      "cell_type": "markdown",
      "metadata": {},
      "source": [
        "## Recommendations for Future Work\n",
        "\n",
        "1. **Extended Training**:\n",
        "   - Continue training for more epochs to allow the generator to improve further and produce more consistent results.\n",
        "\n",
        "2. **Hyperparameter Tuning**:\n",
        "   - Experiment with different learning rates, batch sizes, and network architectures to enhance model performance and stability.\n",
        "\n",
        "3. **Balanced Training Steps**:\n",
        "   - Adjust the number of training steps for the generator and discriminator within each epoch to ensure balanced learning progress.\n",
        "\n",
        "4. **Color Image Generation**:\n",
        "   - Modify the model to generate colored images, which may improve the realism and applicability of the generated images for video games and other applications.\n",
        "\n",
        "## Final Thoughts\n",
        "\n",
        "Generative Adversarial Networks have shown great potential in generating high-quality images, including anime faces. Despite the challenges in training and achieving stable convergence, the results demonstrate the feasibility and promise of GANs in creative applications such as game development and art generation. With continued improvements and refinements, GANs can become a valuable tool for artists and developers in various fields."
      ]
    },
    {
      "cell_type": "markdown",
      "metadata": {
        "id": "9lnxkUKPvPQV"
      },
      "source": [
        "## References\n",
        "\n",
        "Dataset: [Anime Face Dataset](https://www.kaggle.com/datasets/splcher/animefacedataset?resource=download)"
      ]
    },
    {
      "cell_type": "code",
      "execution_count": null,
      "metadata": {
        "id": "JtE9tq5Zva2j"
      },
      "outputs": [],
      "source": []
    }
  ],
  "metadata": {
    "accelerator": "GPU",
    "colab": {
      "provenance": []
    },
    "gpuClass": "standard",
    "kernelspec": {
      "display_name": "Python 3",
      "name": "python3"
    },
    "language_info": {
      "codemirror_mode": {
        "name": "ipython",
        "version": 3
      },
      "file_extension": ".py",
      "mimetype": "text/x-python",
      "name": "python",
      "nbconvert_exporter": "python",
      "pygments_lexer": "ipython3",
      "version": "3.10.0"
    }
  },
  "nbformat": 4,
  "nbformat_minor": 0
}
